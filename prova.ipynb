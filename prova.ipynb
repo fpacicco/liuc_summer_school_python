{
 "cells": [
  {
   "cell_type": "code",
   "execution_count": null,
   "metadata": {},
   "outputs": [],
   "source": [
    "import pandas as pd\n",
    "import numpy as np\n",
    "from imblearn.over_sampling import SMOTE \n",
    "from collections import Counter \n",
    "import matplotlib.pyplot as plt\n",
    "import matplotlib.patches as mpatches\n",
    "import seaborn as sns\n",
    "# !pip install imblearn\n",
    "# !pip install xgboost\n",
    "# !pip install seaborn\n"
   ]
  },
  {
   "cell_type": "code",
   "execution_count": null,
   "metadata": {},
   "outputs": [],
   "source": [
    "# carichiamo i dati\n",
    "credit_risk= pd.read_csv(\"UCI_credit_card.csv\")\n",
    "credit_risk.head() "
   ]
  },
  {
   "cell_type": "code",
   "execution_count": null,
   "metadata": {},
   "outputs": [],
   "source": [
    "# Formazione: (1=laurea, 2=laurea specialistica, 3=scuola superiore, 4=altri, 5=sconosciuto, 6=sconosciuto)\n",
    "credit_risk['EDUCATION'].replace({0:1,1:1,2:2,3:3,4:4,5:1,6:1}, inplace=True)\n",
    "credit_risk.EDUCATION.value_counts() "
   ]
  }
 ],
 "metadata": {
  "language_info": {
   "name": "python"
  }
 },
 "nbformat": 4,
 "nbformat_minor": 2
}
